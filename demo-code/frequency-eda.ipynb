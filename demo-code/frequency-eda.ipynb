{
 "cells": [
  {
   "cell_type": "code",
   "execution_count": 6,
   "id": "86b7dba3",
   "metadata": {},
   "outputs": [],
   "source": [
    "import polars as pl\n",
    "import pandas as pd\n",
    "\n",
    "from ydata_profiling import ProfileReport"
   ]
  },
  {
   "cell_type": "code",
   "execution_count": 7,
   "id": "ce5943ce",
   "metadata": {},
   "outputs": [
    {
     "data": {
      "text/html": [
       "<div><style>\n",
       ".dataframe > thead > tr,\n",
       ".dataframe > tbody > tr {\n",
       "  text-align: right;\n",
       "  white-space: pre-wrap;\n",
       "}\n",
       "</style>\n",
       "<small>shape: (678_012, 13)</small><table border=\"1\" class=\"dataframe\"><thead><tr><th>IDpol</th><th>VehPower</th><th>VehAge</th><th>DrivAge</th><th>BonusMalus</th><th>VehBrand</th><th>VehGas</th><th>Area</th><th>Density</th><th>Region</th><th>Group</th><th>Exposure</th><th>ClaimCount</th></tr><tr><td>i64</td><td>f64</td><td>f64</td><td>f64</td><td>f64</td><td>str</td><td>str</td><td>str</td><td>f64</td><td>str</td><td>str</td><td>f64</td><td>i32</td></tr></thead><tbody><tr><td>2124053</td><td>5.0</td><td>1.0</td><td>31.0</td><td>60.0</td><td>&quot;B2&quot;</td><td>&quot;Diesel&quot;</td><td>&quot;C&quot;</td><td>393.0</td><td>&quot;Centre&quot;</td><td>&quot;2&quot;</td><td>0.53</td><td>0</td></tr><tr><td>1049168</td><td>4.0</td><td>2.0</td><td>73.0</td><td>50.0</td><td>&quot;B12&quot;</td><td>&quot;Regular&quot;</td><td>&quot;D&quot;</td><td>983.0</td><td>&quot;Pays-de-la-Loire&quot;</td><td>&quot;3&quot;</td><td>0.1</td><td>0</td></tr><tr><td>134313</td><td>4.0</td><td>11.0</td><td>60.0</td><td>62.0</td><td>&quot;B1&quot;</td><td>&quot;Regular&quot;</td><td>&quot;E&quot;</td><td>3744.0</td><td>&quot;Provence-Alpes-Cotes-D&#x27;Azur&quot;</td><td>&quot;1&quot;</td><td>1.0</td><td>0</td></tr><tr><td>1145209</td><td>7.0</td><td>9.0</td><td>37.0</td><td>50.0</td><td>&quot;B12&quot;</td><td>&quot;Regular&quot;</td><td>&quot;C&quot;</td><td>204.0</td><td>&quot;Pays-de-la-Loire&quot;</td><td>&quot;1&quot;</td><td>0.06</td><td>0</td></tr><tr><td>2281532</td><td>5.0</td><td>4.0</td><td>43.0</td><td>54.0</td><td>&quot;B1&quot;</td><td>&quot;Diesel&quot;</td><td>&quot;E&quot;</td><td>3317.0</td><td>&quot;Provence-Alpes-Cotes-D&#x27;Azur&quot;</td><td>&quot;3&quot;</td><td>0.5</td><td>0</td></tr><tr><td>&hellip;</td><td>&hellip;</td><td>&hellip;</td><td>&hellip;</td><td>&hellip;</td><td>&hellip;</td><td>&hellip;</td><td>&hellip;</td><td>&hellip;</td><td>&hellip;</td><td>&hellip;</td><td>&hellip;</td><td>&hellip;</td></tr><tr><td>4134506</td><td>6.0</td><td>4.0</td><td>61.0</td><td>50.0</td><td>&quot;B2&quot;</td><td>&quot;Diesel&quot;</td><td>&quot;C&quot;</td><td>220.0</td><td>&quot;Rhone-Alpes&quot;</td><td>&quot;4&quot;</td><td>1.0</td><td>0</td></tr><tr><td>1037983</td><td>8.0</td><td>11.0</td><td>36.0</td><td>72.0</td><td>&quot;B10&quot;</td><td>&quot;Diesel&quot;</td><td>&quot;C&quot;</td><td>282.0</td><td>&quot;Centre&quot;</td><td>&quot;3&quot;</td><td>0.04</td><td>0</td></tr><tr><td>3197389</td><td>7.0</td><td>11.0</td><td>50.0</td><td>50.0</td><td>&quot;B2&quot;</td><td>&quot;Diesel&quot;</td><td>&quot;A&quot;</td><td>9.0</td><td>&quot;Centre&quot;</td><td>&quot;4&quot;</td><td>1.0</td><td>0</td></tr><tr><td>25934</td><td>7.0</td><td>20.0</td><td>34.0</td><td>52.0</td><td>&quot;B1&quot;</td><td>&quot;Diesel&quot;</td><td>&quot;C&quot;</td><td>176.0</td><td>&quot;Provence-Alpes-Cotes-D&#x27;Azur&quot;</td><td>&quot;5&quot;</td><td>1.0</td><td>0</td></tr><tr><td>72150</td><td>7.0</td><td>13.0</td><td>33.0</td><td>50.0</td><td>&quot;B2&quot;</td><td>&quot;Regular&quot;</td><td>&quot;C&quot;</td><td>115.0</td><td>&quot;Pays-de-la-Loire&quot;</td><td>&quot;4&quot;</td><td>1.0</td><td>0</td></tr></tbody></table></div>"
      ],
      "text/plain": [
       "shape: (678_012, 13)\n",
       "┌─────────┬──────────┬────────┬─────────┬───┬──────────────────────┬───────┬──────────┬────────────┐\n",
       "│ IDpol   ┆ VehPower ┆ VehAge ┆ DrivAge ┆ … ┆ Region               ┆ Group ┆ Exposure ┆ ClaimCount │\n",
       "│ ---     ┆ ---      ┆ ---    ┆ ---     ┆   ┆ ---                  ┆ ---   ┆ ---      ┆ ---        │\n",
       "│ i64     ┆ f64      ┆ f64    ┆ f64     ┆   ┆ str                  ┆ str   ┆ f64      ┆ i32        │\n",
       "╞═════════╪══════════╪════════╪═════════╪═══╪══════════════════════╪═══════╪══════════╪════════════╡\n",
       "│ 2124053 ┆ 5.0      ┆ 1.0    ┆ 31.0    ┆ … ┆ Centre               ┆ 2     ┆ 0.53     ┆ 0          │\n",
       "│ 1049168 ┆ 4.0      ┆ 2.0    ┆ 73.0    ┆ … ┆ Pays-de-la-Loire     ┆ 3     ┆ 0.1      ┆ 0          │\n",
       "│ 134313  ┆ 4.0      ┆ 11.0   ┆ 60.0    ┆ … ┆ Provence-Alpes-Cotes ┆ 1     ┆ 1.0      ┆ 0          │\n",
       "│         ┆          ┆        ┆         ┆   ┆ -D'Azur              ┆       ┆          ┆            │\n",
       "│ 1145209 ┆ 7.0      ┆ 9.0    ┆ 37.0    ┆ … ┆ Pays-de-la-Loire     ┆ 1     ┆ 0.06     ┆ 0          │\n",
       "│ 2281532 ┆ 5.0      ┆ 4.0    ┆ 43.0    ┆ … ┆ Provence-Alpes-Cotes ┆ 3     ┆ 0.5      ┆ 0          │\n",
       "│         ┆          ┆        ┆         ┆   ┆ -D'Azur              ┆       ┆          ┆            │\n",
       "│ …       ┆ …        ┆ …      ┆ …       ┆ … ┆ …                    ┆ …     ┆ …        ┆ …          │\n",
       "│ 4134506 ┆ 6.0      ┆ 4.0    ┆ 61.0    ┆ … ┆ Rhone-Alpes          ┆ 4     ┆ 1.0      ┆ 0          │\n",
       "│ 1037983 ┆ 8.0      ┆ 11.0   ┆ 36.0    ┆ … ┆ Centre               ┆ 3     ┆ 0.04     ┆ 0          │\n",
       "│ 3197389 ┆ 7.0      ┆ 11.0   ┆ 50.0    ┆ … ┆ Centre               ┆ 4     ┆ 1.0      ┆ 0          │\n",
       "│ 25934   ┆ 7.0      ┆ 20.0   ┆ 34.0    ┆ … ┆ Provence-Alpes-Cotes ┆ 5     ┆ 1.0      ┆ 0          │\n",
       "│         ┆          ┆        ┆         ┆   ┆ -D'Azur              ┆       ┆          ┆            │\n",
       "│ 72150   ┆ 7.0      ┆ 13.0   ┆ 33.0    ┆ … ┆ Pays-de-la-Loire     ┆ 4     ┆ 1.0      ┆ 0          │\n",
       "└─────────┴──────────┴────────┴─────────┴───┴──────────────────────┴───────┴──────────┴────────────┘"
      ]
     },
     "execution_count": 7,
     "metadata": {},
     "output_type": "execute_result"
    }
   ],
   "source": [
    "frequency = pl.read_parquet('./processed-data/frequency_set.parquet')\n",
    "frequency"
   ]
  },
  {
   "cell_type": "code",
   "execution_count": 8,
   "id": "b95dc5ef",
   "metadata": {},
   "outputs": [],
   "source": [
    "profile = ProfileReport(frequency.to_pandas())"
   ]
  },
  {
   "cell_type": "code",
   "execution_count": 13,
   "id": "d1f8af05",
   "metadata": {},
   "outputs": [
    {
     "name": "stderr",
     "output_type": "stream",
     "text": [
      "Export report to file: 100%|██████████| 1/1 [00:00<00:00, 83.35it/s]\n"
     ]
    }
   ],
   "source": [
    "profile.to_file('frequency-profile.html')"
   ]
  },
  {
   "cell_type": "code",
   "execution_count": null,
   "id": "6c350e9a",
   "metadata": {},
   "outputs": [],
   "source": []
  }
 ],
 "metadata": {
  "kernelspec": {
   "display_name": "python-for-pricing-course (3.12.10)",
   "language": "python",
   "name": "python3"
  },
  "language_info": {
   "codemirror_mode": {
    "name": "ipython",
    "version": 3
   },
   "file_extension": ".py",
   "mimetype": "text/x-python",
   "name": "python",
   "nbconvert_exporter": "python",
   "pygments_lexer": "ipython3",
   "version": "3.12.10"
  }
 },
 "nbformat": 4,
 "nbformat_minor": 5
}
