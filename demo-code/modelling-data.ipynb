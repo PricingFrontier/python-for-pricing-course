{
 "cells": [
  {
   "cell_type": "code",
   "execution_count": 1,
   "id": "90676d3d",
   "metadata": {},
   "outputs": [],
   "source": [
    "import polars as pl\n",
    "import random"
   ]
  },
  {
   "cell_type": "markdown",
   "id": "760da975",
   "metadata": {},
   "source": [
    "## Read in CSV data"
   ]
  },
  {
   "cell_type": "code",
   "execution_count": 2,
   "id": "e8478e2b",
   "metadata": {},
   "outputs": [
    {
     "data": {
      "text/html": [
       "<div><style>\n",
       ".dataframe > thead > tr,\n",
       ".dataframe > tbody > tr {\n",
       "  text-align: right;\n",
       "  white-space: pre-wrap;\n",
       "}\n",
       "</style>\n",
       "<small>shape: (678_013, 10)</small><table border=\"1\" class=\"dataframe\"><thead><tr><th>IDpol</th><th>VehPower</th><th>VehAge</th><th>DrivAge</th><th>BonusMalus</th><th>VehBrand</th><th>VehGas</th><th>Area</th><th>Density</th><th>Region</th></tr><tr><td>i64</td><td>i64</td><td>i64</td><td>i64</td><td>i64</td><td>str</td><td>str</td><td>str</td><td>i64</td><td>str</td></tr></thead><tbody><tr><td>1</td><td>5</td><td>0</td><td>55</td><td>50</td><td>&quot;B12&quot;</td><td>&quot;Regular&quot;</td><td>&quot;D&quot;</td><td>1217</td><td>&quot;Rhone-Alpes&quot;</td></tr><tr><td>3</td><td>5</td><td>0</td><td>55</td><td>50</td><td>&quot;B12&quot;</td><td>&quot;Regular&quot;</td><td>&quot;D&quot;</td><td>1217</td><td>&quot;Rhone-Alpes&quot;</td></tr><tr><td>5</td><td>6</td><td>2</td><td>52</td><td>50</td><td>&quot;B12&quot;</td><td>&quot;Diesel&quot;</td><td>&quot;B&quot;</td><td>54</td><td>&quot;Picardie&quot;</td></tr><tr><td>10</td><td>7</td><td>0</td><td>46</td><td>50</td><td>&quot;B12&quot;</td><td>&quot;Diesel&quot;</td><td>&quot;B&quot;</td><td>76</td><td>&quot;Aquitaine&quot;</td></tr><tr><td>11</td><td>7</td><td>0</td><td>46</td><td>50</td><td>&quot;B12&quot;</td><td>&quot;Diesel&quot;</td><td>&quot;B&quot;</td><td>76</td><td>&quot;Aquitaine&quot;</td></tr><tr><td>&hellip;</td><td>&hellip;</td><td>&hellip;</td><td>&hellip;</td><td>&hellip;</td><td>&hellip;</td><td>&hellip;</td><td>&hellip;</td><td>&hellip;</td><td>&hellip;</td></tr><tr><td>6114326</td><td>4</td><td>0</td><td>54</td><td>50</td><td>&quot;B12&quot;</td><td>&quot;Regular&quot;</td><td>&quot;E&quot;</td><td>3317</td><td>&quot;Provence-Alpes-Cotes-D&#x27;Azur&quot;</td></tr><tr><td>6114327</td><td>4</td><td>0</td><td>41</td><td>95</td><td>&quot;B12&quot;</td><td>&quot;Regular&quot;</td><td>&quot;E&quot;</td><td>9850</td><td>&quot;Ile-de-France&quot;</td></tr><tr><td>6114328</td><td>6</td><td>2</td><td>45</td><td>50</td><td>&quot;B12&quot;</td><td>&quot;Diesel&quot;</td><td>&quot;D&quot;</td><td>1323</td><td>&quot;Rhone-Alpes&quot;</td></tr><tr><td>6114329</td><td>4</td><td>0</td><td>60</td><td>50</td><td>&quot;B12&quot;</td><td>&quot;Regular&quot;</td><td>&quot;B&quot;</td><td>95</td><td>&quot;Bourgogne&quot;</td></tr><tr><td>6114330</td><td>7</td><td>6</td><td>29</td><td>54</td><td>&quot;B12&quot;</td><td>&quot;Diesel&quot;</td><td>&quot;B&quot;</td><td>65</td><td>&quot;Aquitaine&quot;</td></tr></tbody></table></div>"
      ],
      "text/plain": [
       "shape: (678_013, 10)\n",
       "┌─────────┬──────────┬────────┬─────────┬───┬─────────┬──────┬─────────┬───────────────────────────┐\n",
       "│ IDpol   ┆ VehPower ┆ VehAge ┆ DrivAge ┆ … ┆ VehGas  ┆ Area ┆ Density ┆ Region                    │\n",
       "│ ---     ┆ ---      ┆ ---    ┆ ---     ┆   ┆ ---     ┆ ---  ┆ ---     ┆ ---                       │\n",
       "│ i64     ┆ i64      ┆ i64    ┆ i64     ┆   ┆ str     ┆ str  ┆ i64     ┆ str                       │\n",
       "╞═════════╪══════════╪════════╪═════════╪═══╪═════════╪══════╪═════════╪═══════════════════════════╡\n",
       "│ 1       ┆ 5        ┆ 0      ┆ 55      ┆ … ┆ Regular ┆ D    ┆ 1217    ┆ Rhone-Alpes               │\n",
       "│ 3       ┆ 5        ┆ 0      ┆ 55      ┆ … ┆ Regular ┆ D    ┆ 1217    ┆ Rhone-Alpes               │\n",
       "│ 5       ┆ 6        ┆ 2      ┆ 52      ┆ … ┆ Diesel  ┆ B    ┆ 54      ┆ Picardie                  │\n",
       "│ 10      ┆ 7        ┆ 0      ┆ 46      ┆ … ┆ Diesel  ┆ B    ┆ 76      ┆ Aquitaine                 │\n",
       "│ 11      ┆ 7        ┆ 0      ┆ 46      ┆ … ┆ Diesel  ┆ B    ┆ 76      ┆ Aquitaine                 │\n",
       "│ …       ┆ …        ┆ …      ┆ …       ┆ … ┆ …       ┆ …    ┆ …       ┆ …                         │\n",
       "│ 6114326 ┆ 4        ┆ 0      ┆ 54      ┆ … ┆ Regular ┆ E    ┆ 3317    ┆ Provence-Alpes-Cotes-D'Az │\n",
       "│         ┆          ┆        ┆         ┆   ┆         ┆      ┆         ┆ ur                        │\n",
       "│ 6114327 ┆ 4        ┆ 0      ┆ 41      ┆ … ┆ Regular ┆ E    ┆ 9850    ┆ Ile-de-France             │\n",
       "│ 6114328 ┆ 6        ┆ 2      ┆ 45      ┆ … ┆ Diesel  ┆ D    ┆ 1323    ┆ Rhone-Alpes               │\n",
       "│ 6114329 ┆ 4        ┆ 0      ┆ 60      ┆ … ┆ Regular ┆ B    ┆ 95      ┆ Bourgogne                 │\n",
       "│ 6114330 ┆ 7        ┆ 6      ┆ 29      ┆ … ┆ Diesel  ┆ B    ┆ 65      ┆ Aquitaine                 │\n",
       "└─────────┴──────────┴────────┴─────────┴───┴─────────┴──────┴─────────┴───────────────────────────┘"
      ]
     },
     "execution_count": 2,
     "metadata": {},
     "output_type": "execute_result"
    }
   ],
   "source": [
    "policies = pl.read_csv('./raw-data/policies.csv')\n",
    "policies"
   ]
  },
  {
   "cell_type": "code",
   "execution_count": 3,
   "id": "39e6e7bc",
   "metadata": {},
   "outputs": [
    {
     "data": {
      "text/html": [
       "<div><style>\n",
       ".dataframe > thead > tr,\n",
       ".dataframe > tbody > tr {\n",
       "  text-align: right;\n",
       "  white-space: pre-wrap;\n",
       "}\n",
       "</style>\n",
       "<small>shape: (678_013, 2)</small><table border=\"1\" class=\"dataframe\"><thead><tr><th>IDpol</th><th>Exposure</th></tr><tr><td>i64</td><td>f64</td></tr></thead><tbody><tr><td>2124053</td><td>0.53</td></tr><tr><td>1049168</td><td>0.1</td></tr><tr><td>134313</td><td>1.0</td></tr><tr><td>1145209</td><td>0.06</td></tr><tr><td>2281532</td><td>0.5</td></tr><tr><td>&hellip;</td><td>&hellip;</td></tr><tr><td>4134506</td><td>1.0</td></tr><tr><td>1037983</td><td>0.04</td></tr><tr><td>3197389</td><td>1.0</td></tr><tr><td>25934</td><td>1.0</td></tr><tr><td>72150</td><td>1.0</td></tr></tbody></table></div>"
      ],
      "text/plain": [
       "shape: (678_013, 2)\n",
       "┌─────────┬──────────┐\n",
       "│ IDpol   ┆ Exposure │\n",
       "│ ---     ┆ ---      │\n",
       "│ i64     ┆ f64      │\n",
       "╞═════════╪══════════╡\n",
       "│ 2124053 ┆ 0.53     │\n",
       "│ 1049168 ┆ 0.1      │\n",
       "│ 134313  ┆ 1.0      │\n",
       "│ 1145209 ┆ 0.06     │\n",
       "│ 2281532 ┆ 0.5      │\n",
       "│ …       ┆ …        │\n",
       "│ 4134506 ┆ 1.0      │\n",
       "│ 1037983 ┆ 0.04     │\n",
       "│ 3197389 ┆ 1.0      │\n",
       "│ 25934   ┆ 1.0      │\n",
       "│ 72150   ┆ 1.0      │\n",
       "└─────────┴──────────┘"
      ]
     },
     "execution_count": 3,
     "metadata": {},
     "output_type": "execute_result"
    }
   ],
   "source": [
    "exposure = pl.read_csv('./raw-data/exposure.csv')\n",
    "exposure"
   ]
  },
  {
   "cell_type": "code",
   "execution_count": 4,
   "id": "23f12473",
   "metadata": {},
   "outputs": [
    {
     "data": {
      "text/html": [
       "<div><style>\n",
       ".dataframe > thead > tr,\n",
       ".dataframe > tbody > tr {\n",
       "  text-align: right;\n",
       "  white-space: pre-wrap;\n",
       "}\n",
       "</style>\n",
       "<small>shape: (35_560, 2)</small><table border=\"1\" class=\"dataframe\"><thead><tr><th>IDpol</th><th>ClaimAmount</th></tr><tr><td>i64</td><td>f64</td></tr></thead><tbody><tr><td>1</td><td>0.0</td></tr><tr><td>3</td><td>0.0</td></tr><tr><td>5</td><td>0.0</td></tr><tr><td>10</td><td>0.0</td></tr><tr><td>11</td><td>0.0</td></tr><tr><td>&hellip;</td><td>&hellip;</td></tr><tr><td>6113793</td><td>1769.88</td></tr><tr><td>6113817</td><td>1288.28</td></tr><tr><td>6113834</td><td>10290.0</td></tr><tr><td>6113834</td><td>1940.4</td></tr><tr><td>6113971</td><td>1452.0</td></tr></tbody></table></div>"
      ],
      "text/plain": [
       "shape: (35_560, 2)\n",
       "┌─────────┬─────────────┐\n",
       "│ IDpol   ┆ ClaimAmount │\n",
       "│ ---     ┆ ---         │\n",
       "│ i64     ┆ f64         │\n",
       "╞═════════╪═════════════╡\n",
       "│ 1       ┆ 0.0         │\n",
       "│ 3       ┆ 0.0         │\n",
       "│ 5       ┆ 0.0         │\n",
       "│ 10      ┆ 0.0         │\n",
       "│ 11      ┆ 0.0         │\n",
       "│ …       ┆ …           │\n",
       "│ 6113793 ┆ 1769.88     │\n",
       "│ 6113817 ┆ 1288.28     │\n",
       "│ 6113834 ┆ 10290.0     │\n",
       "│ 6113834 ┆ 1940.4      │\n",
       "│ 6113971 ┆ 1452.0      │\n",
       "└─────────┴─────────────┘"
      ]
     },
     "execution_count": 4,
     "metadata": {},
     "output_type": "execute_result"
    }
   ],
   "source": [
    "claims_amounts = pl.read_csv('./raw-data/claims_amounts.csv')\n",
    "claims_amounts"
   ]
  },
  {
   "cell_type": "markdown",
   "id": "9a393c48",
   "metadata": {},
   "source": [
    "## Policies"
   ]
  },
  {
   "cell_type": "code",
   "execution_count": 5,
   "id": "d58011c5",
   "metadata": {},
   "outputs": [],
   "source": [
    "# Assign random number between 1-5\n",
    "policies = policies.with_columns([\n",
    "    pl.Series(\"Group\", [random.randint(1, 5) for _ in range(policies.height)]).cast(pl.String)\n",
    "])\n",
    "\n",
    "# Convert Integer columns to Floats for modelling\n",
    "policies = policies.with_columns([\n",
    "    pl.col(col).cast(pl.Float64) for col, dtype in zip(policies.columns, policies.dtypes) if dtype == pl.Int64\n",
    "])\n",
    "\n",
    "# Convert IDs to Integer type\n",
    "policies = policies.with_columns(IDpol=pl.col('IDpol').cast(pl.Int64))"
   ]
  },
  {
   "cell_type": "markdown",
   "id": "67d25795",
   "metadata": {},
   "source": [
    "## Claims"
   ]
  },
  {
   "cell_type": "code",
   "execution_count": 6,
   "id": "f68e4291",
   "metadata": {},
   "outputs": [],
   "source": [
    "# For claim counts take the sum of claims for each ID\n",
    "claim_counts = (\n",
    "    claims_amounts\n",
    "    .with_columns(ClaimCount = pl.lit(1))\n",
    "    .group_by('IDpol')\n",
    "    .agg(pl.sum('ClaimCount').alias('ClaimCount'))\n",
    ")"
   ]
  },
  {
   "cell_type": "markdown",
   "id": "7b13721c",
   "metadata": {},
   "source": [
    "## Frequency Data"
   ]
  },
  {
   "cell_type": "code",
   "execution_count": 7,
   "id": "fc773c65",
   "metadata": {},
   "outputs": [],
   "source": [
    "# Join policies, exposure, claim_counts datasets together\n",
    "# Populate missing ClaimCount with 0\n",
    "frequency_set = (\n",
    "    policies\n",
    "    .join(exposure, on = 'IDpol', how='inner')\n",
    "    .join(claim_counts, on = 'IDpol', how='left')\n",
    "    .with_columns(ClaimCount = pl.col('ClaimCount').fill_null(0))\n",
    ")\n",
    "\n",
    "# Write data as parquet\n",
    "frequency_set.write_parquet('./processed-data/frequency_set.parquet')"
   ]
  },
  {
   "cell_type": "markdown",
   "id": "ebc3b7fb",
   "metadata": {},
   "source": [
    "## Severity Data"
   ]
  },
  {
   "cell_type": "code",
   "execution_count": null,
   "id": "47b3e38a",
   "metadata": {},
   "outputs": [
    {
     "ename": "",
     "evalue": "",
     "output_type": "error",
     "traceback": [
      "\u001b[1;31mThe Kernel crashed while executing code in the current cell or a previous cell. \n",
      "\u001b[1;31mPlease review the code in the cell(s) to identify a possible cause of the failure. \n",
      "\u001b[1;31mClick <a href='https://aka.ms/vscodeJupyterKernelCrash'>here</a> for more info. \n",
      "\u001b[1;31mView Jupyter <a href='command:jupyter.viewOutput'>log</a> for further details."
     ]
    }
   ],
   "source": [
    "# Join policies, claim_amounts and inner join claim_counts\n",
    "# Populate missing ClaimAmount with 0\n",
    "# Cap ClaimAmount at 50k.\n",
    "severity_set = (\n",
    "    policies\n",
    "    .join(claims_amounts, on = 'IDpol', how='left')\n",
    "    .join(claim_counts, on = 'IDpol', how='inner')\n",
    "    .with_columns(ClaimAmount = pl.col('ClaimAmount').fill_null(0))\n",
    "    .drop('ClaimCount')\n",
    "    .with_columns(ClaimAmount = pl.when(pl.col('ClaimAmount') > 50_000).then(pl.lit(50_000)).otherwise(pl.col('ClaimAmount')))\n",
    ")\n",
    "\n",
    "severity_set.write_parquet('./processed-data/severity_set.parquet')"
   ]
  }
 ],
 "metadata": {
  "kernelspec": {
   "display_name": "python-for-pricing-course",
   "language": "python",
   "name": "python3"
  },
  "language_info": {
   "codemirror_mode": {
    "name": "ipython",
    "version": 3
   },
   "file_extension": ".py",
   "mimetype": "text/x-python",
   "name": "python",
   "nbconvert_exporter": "python",
   "pygments_lexer": "ipython3",
   "version": "3.12.11"
  }
 },
 "nbformat": 4,
 "nbformat_minor": 5
}
